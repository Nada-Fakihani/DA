{
 "cells": [
  {
   "cell_type": "markdown",
   "id": "b7b7e66e",
   "metadata": {},
   "source": [
    "<center><img src=\"https://is1-ssl.mzstatic.com/image/thumb/Purple122/v4/05/e7/67/05e76784-3364-b535-7e20-b3f4946a56b6/AppIcon-0-0-1x_U007emarketing-0-0-0-7-0-0-sRGB-0-0-0-GLES2_U002c0-512MB-85-220-0-0.png/434x0w.webp\" style=\"height:150px\"></center>\n",
    "\n",
    "<hr style=\"border-width:2px;border-color:red\">\n",
    "<center><h1>Test Technique Data Scientist</h1></center>\n",
    "<center><h2> Mesure de la dérive </h2></center>\n",
    "<hr style=\"border-width:2px;border-color:red\">\n",
    "\n",
    "# Contexte\n",
    "\n",
    "La **dérive** en apprentissage automatique (ou **\"drift\"** en anglais) fait référence à un **changement dans les données d'entrée ou de sortie d'un modèle** de machine learning **après son entraînement initial**. Cela peut se produire lorsque les données utilisées pour entraîner le modèle ne **reflètent plus la réalité**, ou lorsque **les conditions du problème changent de manière significative**.\n",
    "\n",
    "La dérive des données peut affecter la précision du modèle de manière significative et peut entraîner des erreurs coûteuses dans les prévisions ou les décisions basées sur le modèle. Par conséquent, **il est important de surveiller régulièrement les performances du modèle** et de le mettre à jour en fonction des nouveaux jeux de données ou des nouvelles conditions du problème.\n",
    "\n",
    "# Objectif\n",
    "\n",
    "Dans ce test, vous allez implémenter des métriques permettant de mesurer la dérive d'un modèle dans un usecase de **e-commerce** où nous essayons de prédire le **panier total** (variable **`TotalCart`** : chiffre d'affaire total d'un client sur la période donnée) des clients en fonction des variables suivantes:\n",
    "* **`Age`** : âge du client en années.\n",
    "* **`Seniority`** : ancienneté du client en années.\n",
    "* **`Orders`** : Nombre de commandes effectuées sur la période précédente.\n",
    "* **`Items`** : Nombre d'items commandés sur la période précédente.\n",
    "* **`AverageDiscount`** : Réduction moyenne accordée au client sur la période précédente en pourcentage.\n",
    "* **`TopCategory`** : Catégorie de produits favorite du client.\n",
    "* **`BrowsingTime`** : Temps total passé sur le site web sur la période précédente en secondes.\n",
    "* **`EmailsOpened`** : Nombre de mails marketing ouverts par le client sur la période précédente.\n",
    "* **`SupportInteractions`** : Nombre d'interactions que le client a eu avec le service client sur la période précédente.\n",
    "\n",
    "Le jeu de données est décomposé en 4 périodes correspondant aux 4 trimestres de l'année 2022. Vous trouverez les données correspondant à chaque période dans les fichiers **`period_0.csv`**, **`period_1.csv`**, ..., **`period_3.csv`**.\n",
    "\n",
    "Vous allez d'abord **entraîner et évaluer un modèle de machine learning** sur les données de la **période 0**. On supposera que ce modèle sera utilisé pour effectuer les prédictions de panier total sur toute l'année 2022.\n",
    "\n",
    "Ensuite, vous devrez **implémenter des métriques de dérive** qui vous seront données et **effectuer une analyse** de celle-ci.\n",
    "\n",
    "# Entraînement du modèle\n",
    "\n",
    "* **Entraînez et validez** deux ou trois modèles de votre choix sur les données de la période 0. \n",
    "\n",
    "**Conseils**\n",
    "\n",
    "* Vous serez évalué sur votre **rigueur** et non sur les performances du modèle.\n",
    "\n",
    "\n",
    "* Il n'est pas nécessaire de faire une analyse exploratoire des données.\n",
    "\n",
    "\n",
    "* Il n'est pas nécessaire de faire de recherche d'hyperparamètres optimaux non plus mais vous pouvez le faire si vous le souhaitez."
   ]
  },
  {
   "cell_type": "code",
   "execution_count": 1,
   "id": "a4e210ed",
   "metadata": {},
   "outputs": [],
   "source": [
    "import pandas as pd\n",
    "import numpy as np\n",
    "from sklearn.preprocessing import LabelEncoder\n",
    "import matplotlib.pyplot as plt\n",
    "import seaborn as sns\n",
    "from sklearn.preprocessing import StandardScaler\n",
    "sns.set_style(\"darkgrid\")\n",
    "\n",
    "period_0_df = pd.read_csv('period_0.csv')\n",
    "period_1_df = pd.read_csv('period_1.csv')\n",
    "period_2_df = pd.read_csv('period_2.csv')\n",
    "period_3_df = pd.read_csv('period_3.csv')"
   ]
  },
  {
   "cell_type": "code",
   "execution_count": 2,
   "id": "ce44a64d",
   "metadata": {},
   "outputs": [
    {
     "data": {
      "text/html": [
       "<div>\n",
       "<style scoped>\n",
       "    .dataframe tbody tr th:only-of-type {\n",
       "        vertical-align: middle;\n",
       "    }\n",
       "\n",
       "    .dataframe tbody tr th {\n",
       "        vertical-align: top;\n",
       "    }\n",
       "\n",
       "    .dataframe thead th {\n",
       "        text-align: right;\n",
       "    }\n",
       "</style>\n",
       "<table border=\"1\" class=\"dataframe\">\n",
       "  <thead>\n",
       "    <tr style=\"text-align: right;\">\n",
       "      <th></th>\n",
       "      <th>Age</th>\n",
       "      <th>Seniority</th>\n",
       "      <th>Orders</th>\n",
       "      <th>Items</th>\n",
       "      <th>AverageDiscount</th>\n",
       "      <th>TopCategory</th>\n",
       "      <th>BrowsingTime</th>\n",
       "      <th>EmailsOpened</th>\n",
       "      <th>SupportInteractions</th>\n",
       "      <th>TotalCart</th>\n",
       "    </tr>\n",
       "  </thead>\n",
       "  <tbody>\n",
       "    <tr>\n",
       "      <th>0</th>\n",
       "      <td>21</td>\n",
       "      <td>2</td>\n",
       "      <td>4</td>\n",
       "      <td>7</td>\n",
       "      <td>0.14</td>\n",
       "      <td>Clothing,Shoes &amp; Jewelry</td>\n",
       "      <td>68.473629</td>\n",
       "      <td>3</td>\n",
       "      <td>2</td>\n",
       "      <td>34.00</td>\n",
       "    </tr>\n",
       "    <tr>\n",
       "      <th>1</th>\n",
       "      <td>22</td>\n",
       "      <td>0</td>\n",
       "      <td>4</td>\n",
       "      <td>5</td>\n",
       "      <td>0.50</td>\n",
       "      <td>Toys &amp; Games</td>\n",
       "      <td>29.258063</td>\n",
       "      <td>1</td>\n",
       "      <td>0</td>\n",
       "      <td>28.28</td>\n",
       "    </tr>\n",
       "    <tr>\n",
       "      <th>2</th>\n",
       "      <td>22</td>\n",
       "      <td>1</td>\n",
       "      <td>2</td>\n",
       "      <td>6</td>\n",
       "      <td>0.37</td>\n",
       "      <td>Health, Household &amp; Baby Care</td>\n",
       "      <td>11.515517</td>\n",
       "      <td>0</td>\n",
       "      <td>0</td>\n",
       "      <td>19.33</td>\n",
       "    </tr>\n",
       "    <tr>\n",
       "      <th>3</th>\n",
       "      <td>19</td>\n",
       "      <td>0</td>\n",
       "      <td>2</td>\n",
       "      <td>8</td>\n",
       "      <td>0.60</td>\n",
       "      <td>Toys &amp; Games</td>\n",
       "      <td>74.495861</td>\n",
       "      <td>1</td>\n",
       "      <td>0</td>\n",
       "      <td>26.83</td>\n",
       "    </tr>\n",
       "    <tr>\n",
       "      <th>4</th>\n",
       "      <td>25</td>\n",
       "      <td>1</td>\n",
       "      <td>1</td>\n",
       "      <td>5</td>\n",
       "      <td>0.58</td>\n",
       "      <td>Toys &amp; Games</td>\n",
       "      <td>1.682705</td>\n",
       "      <td>2</td>\n",
       "      <td>1</td>\n",
       "      <td>17.67</td>\n",
       "    </tr>\n",
       "  </tbody>\n",
       "</table>\n",
       "</div>"
      ],
      "text/plain": [
       "   Age  Seniority  Orders  Items  AverageDiscount  \\\n",
       "0   21          2       4      7             0.14   \n",
       "1   22          0       4      5             0.50   \n",
       "2   22          1       2      6             0.37   \n",
       "3   19          0       2      8             0.60   \n",
       "4   25          1       1      5             0.58   \n",
       "\n",
       "                     TopCategory  BrowsingTime  EmailsOpened  \\\n",
       "0       Clothing,Shoes & Jewelry     68.473629             3   \n",
       "1                   Toys & Games     29.258063             1   \n",
       "2  Health, Household & Baby Care     11.515517             0   \n",
       "3                   Toys & Games     74.495861             1   \n",
       "4                   Toys & Games      1.682705             2   \n",
       "\n",
       "   SupportInteractions  TotalCart  \n",
       "0                    2      34.00  \n",
       "1                    0      28.28  \n",
       "2                    0      19.33  \n",
       "3                    0      26.83  \n",
       "4                    1      17.67  "
      ]
     },
     "execution_count": 2,
     "metadata": {},
     "output_type": "execute_result"
    }
   ],
   "source": [
    "# Aperçu des données\n",
    "period_0_df.head()"
   ]
  },
  {
   "cell_type": "code",
   "execution_count": 3,
   "id": "7e18ad6f",
   "metadata": {},
   "outputs": [
    {
     "name": "stdout",
     "output_type": "stream",
     "text": [
      "The shape of our data : (1000, 10)\n"
     ]
    }
   ],
   "source": [
    "print(\"The shape of our data : {}\".format(period_0_df.shape))"
   ]
  },
  {
   "cell_type": "code",
   "execution_count": 4,
   "id": "4ad9aea0",
   "metadata": {},
   "outputs": [
    {
     "name": "stdout",
     "output_type": "stream",
     "text": [
      "<class 'pandas.core.frame.DataFrame'>\n",
      "RangeIndex: 1000 entries, 0 to 999\n",
      "Data columns (total 10 columns):\n",
      " #   Column               Non-Null Count  Dtype  \n",
      "---  ------               --------------  -----  \n",
      " 0   Age                  1000 non-null   int64  \n",
      " 1   Seniority            1000 non-null   int64  \n",
      " 2   Orders               1000 non-null   int64  \n",
      " 3   Items                1000 non-null   int64  \n",
      " 4   AverageDiscount      1000 non-null   float64\n",
      " 5   TopCategory          1000 non-null   object \n",
      " 6   BrowsingTime         1000 non-null   float64\n",
      " 7   EmailsOpened         1000 non-null   int64  \n",
      " 8   SupportInteractions  1000 non-null   int64  \n",
      " 9   TotalCart            1000 non-null   float64\n",
      "dtypes: float64(3), int64(6), object(1)\n",
      "memory usage: 78.2+ KB\n"
     ]
    }
   ],
   "source": [
    "# Pour obtenir des informations sur le nombre de lignes, le nombre de colonnes et le type de données de chaque colonne\n",
    "period_0_df.info()"
   ]
  },
  {
   "cell_type": "code",
   "execution_count": 5,
   "id": "3441764b",
   "metadata": {},
   "outputs": [
    {
     "data": {
      "text/html": [
       "<div>\n",
       "<style scoped>\n",
       "    .dataframe tbody tr th:only-of-type {\n",
       "        vertical-align: middle;\n",
       "    }\n",
       "\n",
       "    .dataframe tbody tr th {\n",
       "        vertical-align: top;\n",
       "    }\n",
       "\n",
       "    .dataframe thead th {\n",
       "        text-align: right;\n",
       "    }\n",
       "</style>\n",
       "<table border=\"1\" class=\"dataframe\">\n",
       "  <thead>\n",
       "    <tr style=\"text-align: right;\">\n",
       "      <th></th>\n",
       "      <th>Age</th>\n",
       "      <th>Seniority</th>\n",
       "      <th>Orders</th>\n",
       "      <th>Items</th>\n",
       "      <th>AverageDiscount</th>\n",
       "      <th>BrowsingTime</th>\n",
       "      <th>EmailsOpened</th>\n",
       "      <th>SupportInteractions</th>\n",
       "      <th>TotalCart</th>\n",
       "    </tr>\n",
       "  </thead>\n",
       "  <tbody>\n",
       "    <tr>\n",
       "      <th>count</th>\n",
       "      <td>1000.00</td>\n",
       "      <td>1000.00</td>\n",
       "      <td>1000.00</td>\n",
       "      <td>1000.00</td>\n",
       "      <td>1000.00</td>\n",
       "      <td>1000.00</td>\n",
       "      <td>1000.00</td>\n",
       "      <td>1000.00</td>\n",
       "      <td>1000.00</td>\n",
       "    </tr>\n",
       "    <tr>\n",
       "      <th>mean</th>\n",
       "      <td>24.07</td>\n",
       "      <td>0.51</td>\n",
       "      <td>3.01</td>\n",
       "      <td>5.98</td>\n",
       "      <td>0.37</td>\n",
       "      <td>97.95</td>\n",
       "      <td>0.99</td>\n",
       "      <td>1.01</td>\n",
       "      <td>35.88</td>\n",
       "    </tr>\n",
       "    <tr>\n",
       "      <th>std</th>\n",
       "      <td>5.06</td>\n",
       "      <td>0.72</td>\n",
       "      <td>1.73</td>\n",
       "      <td>2.40</td>\n",
       "      <td>0.22</td>\n",
       "      <td>100.22</td>\n",
       "      <td>1.00</td>\n",
       "      <td>1.02</td>\n",
       "      <td>17.62</td>\n",
       "    </tr>\n",
       "    <tr>\n",
       "      <th>min</th>\n",
       "      <td>7.00</td>\n",
       "      <td>0.00</td>\n",
       "      <td>0.00</td>\n",
       "      <td>1.00</td>\n",
       "      <td>0.00</td>\n",
       "      <td>0.01</td>\n",
       "      <td>0.00</td>\n",
       "      <td>0.00</td>\n",
       "      <td>0.00</td>\n",
       "    </tr>\n",
       "    <tr>\n",
       "      <th>25%</th>\n",
       "      <td>21.00</td>\n",
       "      <td>0.00</td>\n",
       "      <td>2.00</td>\n",
       "      <td>4.00</td>\n",
       "      <td>0.18</td>\n",
       "      <td>29.33</td>\n",
       "      <td>0.00</td>\n",
       "      <td>0.00</td>\n",
       "      <td>25.58</td>\n",
       "    </tr>\n",
       "    <tr>\n",
       "      <th>50%</th>\n",
       "      <td>24.00</td>\n",
       "      <td>0.00</td>\n",
       "      <td>3.00</td>\n",
       "      <td>6.00</td>\n",
       "      <td>0.38</td>\n",
       "      <td>68.04</td>\n",
       "      <td>1.00</td>\n",
       "      <td>1.00</td>\n",
       "      <td>33.66</td>\n",
       "    </tr>\n",
       "    <tr>\n",
       "      <th>75%</th>\n",
       "      <td>27.00</td>\n",
       "      <td>1.00</td>\n",
       "      <td>4.00</td>\n",
       "      <td>7.00</td>\n",
       "      <td>0.56</td>\n",
       "      <td>127.06</td>\n",
       "      <td>2.00</td>\n",
       "      <td>2.00</td>\n",
       "      <td>43.77</td>\n",
       "    </tr>\n",
       "    <tr>\n",
       "      <th>max</th>\n",
       "      <td>41.00</td>\n",
       "      <td>4.00</td>\n",
       "      <td>9.00</td>\n",
       "      <td>15.00</td>\n",
       "      <td>0.75</td>\n",
       "      <td>831.03</td>\n",
       "      <td>5.00</td>\n",
       "      <td>7.00</td>\n",
       "      <td>138.88</td>\n",
       "    </tr>\n",
       "  </tbody>\n",
       "</table>\n",
       "</div>"
      ],
      "text/plain": [
       "           Age  Seniority   Orders    Items  AverageDiscount  BrowsingTime  \\\n",
       "count  1000.00    1000.00  1000.00  1000.00          1000.00       1000.00   \n",
       "mean     24.07       0.51     3.01     5.98             0.37         97.95   \n",
       "std       5.06       0.72     1.73     2.40             0.22        100.22   \n",
       "min       7.00       0.00     0.00     1.00             0.00          0.01   \n",
       "25%      21.00       0.00     2.00     4.00             0.18         29.33   \n",
       "50%      24.00       0.00     3.00     6.00             0.38         68.04   \n",
       "75%      27.00       1.00     4.00     7.00             0.56        127.06   \n",
       "max      41.00       4.00     9.00    15.00             0.75        831.03   \n",
       "\n",
       "       EmailsOpened  SupportInteractions  TotalCart  \n",
       "count       1000.00              1000.00    1000.00  \n",
       "mean           0.99                 1.01      35.88  \n",
       "std            1.00                 1.02      17.62  \n",
       "min            0.00                 0.00       0.00  \n",
       "25%            0.00                 0.00      25.58  \n",
       "50%            1.00                 1.00      33.66  \n",
       "75%            2.00                 2.00      43.77  \n",
       "max            5.00                 7.00     138.88  "
      ]
     },
     "execution_count": 5,
     "metadata": {},
     "output_type": "execute_result"
    }
   ],
   "source": [
    "period_0_df.describe().round(decimals=2)"
   ]
  },
  {
   "cell_type": "code",
   "execution_count": 6,
   "id": "e4f0ea87",
   "metadata": {},
   "outputs": [
    {
     "data": {
      "text/plain": [
       "Age                    0\n",
       "Seniority              0\n",
       "Orders                 0\n",
       "Items                  0\n",
       "AverageDiscount        0\n",
       "TopCategory            0\n",
       "BrowsingTime           0\n",
       "EmailsOpened           0\n",
       "SupportInteractions    0\n",
       "TotalCart              0\n",
       "dtype: int64"
      ]
     },
     "execution_count": 6,
     "metadata": {},
     "output_type": "execute_result"
    }
   ],
   "source": [
    "period_0_df.isna().sum()"
   ]
  },
  {
   "cell_type": "code",
   "execution_count": 7,
   "id": "c180e9da",
   "metadata": {},
   "outputs": [
    {
     "name": "stdout",
     "output_type": "stream",
     "text": [
      "Liste des catégories uniques :  ['Clothing,Shoes & Jewelry' 'Toys & Games' 'Health, Household & Baby Care'\n",
      " 'Electronics' 'Home & Kitchen' 'Pet Supplies' 'Beauty & Personal Care'\n",
      " 'Sports & outdoors' 'Office Supplies']\n",
      "Catégories encodées :  [1 8 3 2 4 6 0 7 5]\n"
     ]
    }
   ],
   "source": [
    "# Liste de toutes les catégories uniques dans la colonne TopCategory\n",
    "unique_categories = period_0_df['TopCategory'].unique()\n",
    "print(\"Liste des catégories uniques : \", unique_categories)\n",
    "\n",
    "# Encoder les catégories en nombres entiers\n",
    "le = LabelEncoder()\n",
    "\n",
    "period_0_df['TopCategory'] = le.fit_transform(period_0_df['TopCategory'])\n",
    "\n",
    "# Afficher les catégories encodées\n",
    "print(\"Catégories encodées : \", period_0_df['TopCategory'].unique())\n",
    "category_names = le.classes_"
   ]
  },
  {
   "cell_type": "code",
   "execution_count": 8,
   "id": "1aff4c28",
   "metadata": {},
   "outputs": [
    {
     "data": {
      "text/html": [
       "<div>\n",
       "<style scoped>\n",
       "    .dataframe tbody tr th:only-of-type {\n",
       "        vertical-align: middle;\n",
       "    }\n",
       "\n",
       "    .dataframe tbody tr th {\n",
       "        vertical-align: top;\n",
       "    }\n",
       "\n",
       "    .dataframe thead th {\n",
       "        text-align: right;\n",
       "    }\n",
       "</style>\n",
       "<table border=\"1\" class=\"dataframe\">\n",
       "  <thead>\n",
       "    <tr style=\"text-align: right;\">\n",
       "      <th></th>\n",
       "      <th>Age</th>\n",
       "      <th>Seniority</th>\n",
       "      <th>Orders</th>\n",
       "      <th>Items</th>\n",
       "      <th>AverageDiscount</th>\n",
       "      <th>TopCategory</th>\n",
       "      <th>BrowsingTime</th>\n",
       "      <th>EmailsOpened</th>\n",
       "      <th>SupportInteractions</th>\n",
       "      <th>TotalCart</th>\n",
       "    </tr>\n",
       "  </thead>\n",
       "  <tbody>\n",
       "    <tr>\n",
       "      <th>0</th>\n",
       "      <td>21</td>\n",
       "      <td>2</td>\n",
       "      <td>4</td>\n",
       "      <td>7</td>\n",
       "      <td>0.14</td>\n",
       "      <td>1</td>\n",
       "      <td>68.473629</td>\n",
       "      <td>3</td>\n",
       "      <td>2</td>\n",
       "      <td>34.00</td>\n",
       "    </tr>\n",
       "    <tr>\n",
       "      <th>1</th>\n",
       "      <td>22</td>\n",
       "      <td>0</td>\n",
       "      <td>4</td>\n",
       "      <td>5</td>\n",
       "      <td>0.50</td>\n",
       "      <td>8</td>\n",
       "      <td>29.258063</td>\n",
       "      <td>1</td>\n",
       "      <td>0</td>\n",
       "      <td>28.28</td>\n",
       "    </tr>\n",
       "    <tr>\n",
       "      <th>2</th>\n",
       "      <td>22</td>\n",
       "      <td>1</td>\n",
       "      <td>2</td>\n",
       "      <td>6</td>\n",
       "      <td>0.37</td>\n",
       "      <td>3</td>\n",
       "      <td>11.515517</td>\n",
       "      <td>0</td>\n",
       "      <td>0</td>\n",
       "      <td>19.33</td>\n",
       "    </tr>\n",
       "    <tr>\n",
       "      <th>3</th>\n",
       "      <td>19</td>\n",
       "      <td>0</td>\n",
       "      <td>2</td>\n",
       "      <td>8</td>\n",
       "      <td>0.60</td>\n",
       "      <td>8</td>\n",
       "      <td>74.495861</td>\n",
       "      <td>1</td>\n",
       "      <td>0</td>\n",
       "      <td>26.83</td>\n",
       "    </tr>\n",
       "    <tr>\n",
       "      <th>4</th>\n",
       "      <td>25</td>\n",
       "      <td>1</td>\n",
       "      <td>1</td>\n",
       "      <td>5</td>\n",
       "      <td>0.58</td>\n",
       "      <td>8</td>\n",
       "      <td>1.682705</td>\n",
       "      <td>2</td>\n",
       "      <td>1</td>\n",
       "      <td>17.67</td>\n",
       "    </tr>\n",
       "  </tbody>\n",
       "</table>\n",
       "</div>"
      ],
      "text/plain": [
       "   Age  Seniority  Orders  Items  AverageDiscount  TopCategory  BrowsingTime  \\\n",
       "0   21          2       4      7             0.14            1     68.473629   \n",
       "1   22          0       4      5             0.50            8     29.258063   \n",
       "2   22          1       2      6             0.37            3     11.515517   \n",
       "3   19          0       2      8             0.60            8     74.495861   \n",
       "4   25          1       1      5             0.58            8      1.682705   \n",
       "\n",
       "   EmailsOpened  SupportInteractions  TotalCart  \n",
       "0             3                    2      34.00  \n",
       "1             1                    0      28.28  \n",
       "2             0                    0      19.33  \n",
       "3             1                    0      26.83  \n",
       "4             2                    1      17.67  "
      ]
     },
     "execution_count": 8,
     "metadata": {},
     "output_type": "execute_result"
    }
   ],
   "source": [
    "period_0_df.head()"
   ]
  },
  {
   "cell_type": "code",
   "execution_count": 9,
   "id": "9afdf3d0",
   "metadata": {},
   "outputs": [
    {
     "name": "stdout",
     "output_type": "stream",
     "text": [
      "Taille de l'ensemble d'entraînement : 800\n",
      "Taille de l'ensemble de validation : 200\n"
     ]
    }
   ],
   "source": [
    "from sklearn.model_selection import train_test_split\n",
    "\n",
    "# Diviser les données en ensembles d'entraînement et de validation avec une répartition 80/20\n",
    "\n",
    "X0 = period_0_df.drop('TotalCart', axis=1)\n",
    "y0 = period_0_df['TotalCart']\n",
    "\n",
    "X_train, X_val, y_train, y_val = train_test_split(X0, y0, test_size=0.2, random_state=43)\n",
    "\n",
    "# Pour vérifier la taille des ensembles d'entraînement et de validation\n",
    "print(f'Taille de l\\'ensemble d\\'entraînement : {len(X_train)}')\n",
    "print(f'Taille de l\\'ensemble de validation : {len(X_val)}')\n"
   ]
  },
  {
   "cell_type": "code",
   "execution_count": 10,
   "id": "3fa1a66e",
   "metadata": {},
   "outputs": [
    {
     "data": {
      "text/plain": [
       "RandomForestRegressor(random_state=42)"
      ]
     },
     "execution_count": 10,
     "metadata": {},
     "output_type": "execute_result"
    }
   ],
   "source": [
    "from sklearn.linear_model import LinearRegression\n",
    "from sklearn.tree import DecisionTreeRegressor\n",
    "from sklearn.ensemble import RandomForestRegressor\n",
    "\n",
    "# Initialisation des modèles\n",
    "lr = LinearRegression()\n",
    "dt = DecisionTreeRegressor(random_state=42)\n",
    "rf = RandomForestRegressor(random_state=42)\n",
    "\n",
    "# Entraînement des modèles sur l'ensemble d'entraînement\n",
    "lr.fit(X_train, y_train)\n",
    "dt.fit(X_train, y_train)\n",
    "rf.fit(X_train, y_train)\n"
   ]
  },
  {
   "cell_type": "code",
   "execution_count": 11,
   "id": "961365f3",
   "metadata": {},
   "outputs": [],
   "source": [
    "from sklearn.metrics import mean_squared_error, r2_score\n",
    "\n",
    "# Prédictions sur l'ensemble de validation\n",
    "y_pred_lr = lr.predict(X_val)\n",
    "y_pred_dt = dt.predict(X_val)\n",
    "y_pred_rf = rf.predict(X_val)\n",
    "\n",
    "# Calcul de l'erreur quadratique moyenne (RMSE) pour chaque modèle\n",
    "rmse_lr = mean_squared_error(y_val, y_pred_lr, squared=False)\n",
    "rmse_dt = mean_squared_error(y_val, y_pred_dt, squared=False)\n",
    "rmse_rf = mean_squared_error(y_val, y_pred_rf, squared=False)\n",
    "\n",
    "# Calcul de coefficient de détermination (R2) pour chaque modèle\n",
    "r2_lr = r2_score(y_val, y_pred_lr)\n",
    "r2_dt = r2_score(y_val, y_pred_dt)\n",
    "r2_rf = r2_score(y_val, y_pred_rf)"
   ]
  },
  {
   "cell_type": "code",
   "execution_count": 12,
   "id": "97633291",
   "metadata": {},
   "outputs": [
    {
     "name": "stdout",
     "output_type": "stream",
     "text": [
      "Performance des modèles sur l'ensemble de validation pour la période 0:\n",
      "---------------------------------------------\n",
      "Régression linéaire :\n",
      "RMSE =  6.660877418277584\n",
      "R2 score =  0.8617851024975821\n",
      "---------------------------------------------\n",
      "Arbre de décision :\n",
      "RMSE =  3.6380498897073967\n",
      "R2 score =  0.9587684867581273\n",
      "---------------------------------------------\n",
      "Forêt aléatoire :\n",
      "RMSE =  2.426695154814465\n",
      "R2 score =  0.9816548013249636\n",
      "---------------------------------------------\n"
     ]
    }
   ],
   "source": [
    "# Afficher les performances des modèles\n",
    "print(\"Performance des modèles sur l'ensemble de validation pour la période 0:\")\n",
    "print(\"---------------------------------------------\")\n",
    "print(\"Régression linéaire :\")\n",
    "print(\"RMSE = \", rmse_lr)\n",
    "print(\"R2 score = \", r2_lr)\n",
    "print(\"---------------------------------------------\")\n",
    "print(\"Arbre de décision :\")\n",
    "print(\"RMSE = \", rmse_dt)\n",
    "print(\"R2 score = \", r2_dt)\n",
    "print(\"---------------------------------------------\")\n",
    "print(\"Forêt aléatoire :\")\n",
    "print(\"RMSE = \", rmse_rf)\n",
    "print(\"R2 score = \", r2_rf)\n",
    "print(\"---------------------------------------------\")"
   ]
  },
  {
   "cell_type": "markdown",
   "id": "99459d15",
   "metadata": {},
   "source": [
    "# Mesure de la dérive de variables catégorielles.\n",
    "\n",
    "Pour deux distributions de probabilités discrètes $P$ et $Q$, la **divergence de Kullback–Leibler** de $P$ par rapport à $Q$ est définie par:\n",
    "\n",
    "$$D_\\text{KL}(P \\parallel Q) = \\sum_{x\\in\\mathcal{X}} P(x) \\log\\left(\\frac{P(x)}{Q(x)}\\right)$$\n",
    "\n",
    "\n",
    "On définit la **divergence de Jensen-Shannon** comme une version lisse et symétrique de la divergence de Kullback-Leiber donnée par la formule suivante:\n",
    "\n",
    "$${\\rm JSD}(P \\parallel Q)= \\frac{1}{2}D(P \\parallel M)+\\frac{1}{2}D(Q \\parallel M)$$\n",
    "\n",
    "où $M=\\frac{1}{2}(P+Q)$\n",
    "\n",
    "### Exemple de calcul de $D_\\text{KL}(P \\parallel Q)$ : \n",
    "\n",
    "Soient $P$ =`[0.2, 0.3, 0.5]` et $Q$ =`[0.2, 0.4, 0.4]` deux vecteurs définissant une loi de probabilité discrete. Alors : \n",
    "\n",
    "$$\n",
    "\\begin{equation}\n",
    "\\begin{split}\n",
    "D_\\text{KL}(P \\parallel Q) & = P(0) \\log\\left(\\frac{P(0)}{Q(0)}\\right)\n",
    "                             + P(1) \\log\\left(\\frac{P(1)}{Q(1)}\\right)\n",
    "                             + P(2) \\log\\left(\\frac{P(2)}{Q(2)}\\right)\\\\ \\\\\n",
    "                           & = 0.2 \\log\\left(\\frac{0.2}{0.2}\\right)\n",
    "                             + 0.3 \\log\\left(\\frac{0.3}{0.4}\\right)\n",
    "                             + 0.5 \\log\\left(\\frac{0.5}{0.4}\\right) \\\\ \\\\\n",
    "                           & = 0.02526...\n",
    "\\end{split}\n",
    "\\end{equation}\n",
    "$$\n",
    "\n",
    "### Exercice\n",
    "\n",
    "* Implémenter des fonctions nommées **`KLDivergence(P, Q)`** et **`JSDivergence(P, Q)`** permettant de calculer les métriques définies ci-dessus.\n",
    "\n",
    "**Conseils**:\n",
    "* Utiliser la librairie Numpy permettant de facilement effectuer des calculs d'algèbre linéaire."
   ]
  },
  {
   "cell_type": "code",
   "execution_count": 13,
   "id": "0993e50e",
   "metadata": {},
   "outputs": [],
   "source": [
    "import numpy as np \n",
    "\n",
    "P = np.array([0.2, 0.3, 0.5])\n",
    "Q = np.array([0.2, 0.4, 0.4])\n",
    "\n",
    "def KLDivergence(P, Q):\n",
    "    return np.sum( P * np.log(P/Q) )\n",
    "\n",
    "def JSDivergence(P, Q):\n",
    "    \n",
    "    M = 0.5 *(P+Q)\n",
    "    return 0.5 * KLDivergence(P,M) + 0.5 *   KLDivergence(Q,M) \n",
    "    "
   ]
  },
  {
   "cell_type": "markdown",
   "id": "b288b04e",
   "metadata": {},
   "source": [
    "* Lancer la cellule suivante pour tester votre fonction."
   ]
  },
  {
   "cell_type": "code",
   "execution_count": 14,
   "id": "4f5a4969",
   "metadata": {},
   "outputs": [
    {
     "name": "stdout",
     "output_type": "stream",
     "text": [
      "K-L Divergence: 0.02526715392157057\n",
      "J-S Divergence: 0.006367198333995731\n"
     ]
    }
   ],
   "source": [
    "print(\"K-L Divergence:\", KLDivergence(P, Q))\n",
    "print(\"J-S Divergence:\", JSDivergence(P, Q))"
   ]
  },
  {
   "cell_type": "markdown",
   "id": "675968bf",
   "metadata": {},
   "source": [
    "# Mesure de la dérive de variables quantitatives.\n",
    "\n",
    "Soit $P$ une mesure empirique d'échantillons $X_1, \\ldots, X_n\n",
    "$ et $Q$ une mesure empirique d'échantillons $Y_1, \\ldots, Y_n$, on définit la **Distance de Wasserstein** d'ordre $p$ par la fonction suivante :\n",
    "\n",
    "$$W_p(P, Q) = \\left( \\frac{1}{n}\\sum_{i=1}^n \\|X_{(i)} - Y_{(i)}\\|^p \\right)^{1/p}$$\n",
    "\n",
    "où $X_{(1)}, \\ldots, X_{(n)}$ et $Y_{(1)}, \\ldots, Y_{(n)}$ sont les [**statistiques d'ordre**](https://en.wikipedia.org/wiki/Order_statistic#Notation_and_examples) des échantillons $X$ et $Y$ et $p$ un nombre entier positif.\n",
    "\n",
    "### Exercice\n",
    "\n",
    "* Implémenter une fonction nommée **`WassersteinDistance(X, Y, p)`** permettant de calculer cette métrique à l'ordre **`p`** à partir de **deux échantillons** **`X`** et **`Y`** que l'on supposera de même longueur.\n",
    "\n",
    "**Conseils**:\n",
    "* Vous pouvez trier les échantillons pour obtenir les statistiques d'ordre."
   ]
  },
  {
   "cell_type": "code",
   "execution_count": 15,
   "id": "107f656a",
   "metadata": {},
   "outputs": [],
   "source": [
    "import numpy as np\n",
    "def WassersteinDistance(X, Y, p):   \n",
    "    if len(X) != len(Y):\n",
    "        raise ValueError(\"Les échantillons X et Y doivent avoir la même longueur.\")\n",
    "    \n",
    "    n = len(X)\n",
    "    return ((1 / n) * np.sum(np.abs(np.sort(X) - np.sort(Y)) ** p)) ** (1 / p)"
   ]
  },
  {
   "cell_type": "markdown",
   "id": "fd06da66",
   "metadata": {},
   "source": [
    "* Lancer la cellule suivante pour tester votre fonction."
   ]
  },
  {
   "cell_type": "code",
   "execution_count": 16,
   "id": "11d0e0a5",
   "metadata": {},
   "outputs": [
    {
     "name": "stdout",
     "output_type": "stream",
     "text": [
      "La distance de Wasserstein d'ordre 1 entre X_sim et Y_sim est: 0.0766222869086662\n"
     ]
    }
   ],
   "source": [
    "X_sim = np.random.beta(2, 6, 100)\n",
    "\n",
    "Y_sim = np.random.beta(3, 6, 100)\n",
    "\n",
    "print(\"La distance de Wasserstein d'ordre 1 entre X_sim et Y_sim est:\", WassersteinDistance(X_sim, Y_sim, 1))"
   ]
  },
  {
   "cell_type": "markdown",
   "id": "12dbe4fc",
   "metadata": {},
   "source": [
    "# Étude de la dérive du modèle.\n",
    "\n",
    "* En vous appuyant sur les métriques définies précédemment, illustrez et analysez visuellement la **dérive des données** ainsi que **la dérive du modèle** sur les périodes **1 à 3**. \n",
    "\n",
    "\n",
    "* Commenter les visualisations et déterminer si le modèle doit être mis à jour ou si sa performance est toujours acceptable. \n",
    "\n",
    "**Conseils**:\n",
    "* Vous serez évalué sur **la rigueur et le soin** que vous donnerez à votre analyse, et sur **vos capacités à synthéthiser votre étude**. Vous ne serez pas évalué sur vos conclusions.\n",
    "\n",
    "\n",
    "* Vous pouvez normaliser les données par rapport aux **moyennes et variances que vous calculerez sur la période 0** pour que les distances de Wasserstein pour différentes variables soient facilement comparables."
   ]
  },
  {
   "cell_type": "code",
   "execution_count": 17,
   "id": "94d0a564",
   "metadata": {},
   "outputs": [],
   "source": [
    "#Les données\n",
    "period_1_df['TopCategory'] = le.fit_transform(period_1_df['TopCategory'])\n",
    "period_2_df['TopCategory'] = le.fit_transform(period_2_df['TopCategory'])\n",
    "period_3_df['TopCategory'] = le.fit_transform(period_3_df['TopCategory'])\n",
    "\n",
    "X0 = period_0_df.drop('TotalCart', axis=1)\n",
    "y0 = period_0_df['TotalCart']\n",
    "\n",
    "X1 = period_1_df.drop('TotalCart', axis=1)\n",
    "y1 = period_1_df['TotalCart']\n",
    "\n",
    "X2 = period_2_df.drop('TotalCart', axis=1)\n",
    "y2 = period_2_df['TotalCart']\n",
    "\n",
    "X3 = period_3_df.drop('TotalCart', axis=1)\n",
    "y3 = period_3_df['TotalCart']"
   ]
  },
  {
   "cell_type": "markdown",
   "id": "b6920b2c",
   "metadata": {},
   "source": [
    "## 1- Étude de la dérive des modèles"
   ]
  },
  {
   "cell_type": "code",
   "execution_count": 18,
   "id": "3c3d51a4",
   "metadata": {},
   "outputs": [
    {
     "name": "stdout",
     "output_type": "stream",
     "text": [
      "Linear Regression :\n",
      "Période 0: RMSE = 8.0289, R2 score = 0.7921\n",
      "Période 1: RMSE = 9.3262, R2 score = 0.7537\n",
      "Période 2: RMSE = 10.2739, R2 score = 0.7242\n",
      "Période 3: RMSE = 15.0055, R2 score = 0.5883\n",
      "\n",
      "Decision Tree :\n",
      "Période 0: RMSE = 1.6270, R2 score = 0.9915\n",
      "Période 1: RMSE = 8.4904, R2 score = 0.7959\n",
      "Période 2: RMSE = 9.6838, R2 score = 0.7550\n",
      "Période 3: RMSE = 13.3893, R2 score = 0.6722\n",
      "\n",
      "Random Forest :\n",
      "Période 0: RMSE = 1.4221, R2 score = 0.9935\n",
      "Période 1: RMSE = 8.0932, R2 score = 0.8145\n",
      "Période 2: RMSE = 8.9741, R2 score = 0.7896\n",
      "Période 3: RMSE = 13.0034, R2 score = 0.6908\n",
      "\n"
     ]
    }
   ],
   "source": [
    "def results(X, y):\n",
    "    y_pred_lr = lr.predict(X)\n",
    "    y_pred_dt = dt.predict(X)\n",
    "    y_pred_rf = rf.predict(X)\n",
    "\n",
    "    rmse_lr = mean_squared_error(y, y_pred_lr, squared=False)\n",
    "    rmse_dt = mean_squared_error(y, y_pred_dt, squared=False)\n",
    "    rmse_rf = mean_squared_error(y, y_pred_rf, squared=False)\n",
    "\n",
    "    r2_lr = r2_score(y, y_pred_lr)\n",
    "    r2_dt = r2_score(y, y_pred_dt)\n",
    "    r2_rf = r2_score(y, y_pred_rf)\n",
    "\n",
    "    return {\n",
    "        'Linear Regression': (rmse_lr, r2_lr),\n",
    "        'Decision Tree': (rmse_dt, r2_dt),\n",
    "        'Random Forest': (rmse_rf, r2_rf),\n",
    "    }\n",
    "\n",
    "# Initialisation des dictionnaires\n",
    "rmse_values = {'Linear Regression': [], 'Decision Tree': [], 'Random Forest': []}\n",
    "r2_values = {'Linear Regression': [], 'Decision Tree': [], 'Random Forest': []}\n",
    "\n",
    "# Appel de la fonction pour chaque période et ajout de les résultats aux dictionnaires\n",
    "for i, (X, y) in enumerate([(X0, y0),(X1, y1), (X2, y2), (X3, y3)]):\n",
    "    result = results(X, y)\n",
    "    for model, (rmse, r2) in result.items():\n",
    "        rmse_values[model].append(rmse)\n",
    "        r2_values[model].append(r2)\n",
    "\n",
    "# Afficher les résultats\n",
    "for model, rmse_list in rmse_values.items():\n",
    "    r2_list = r2_values[model]\n",
    "    print(model + \" :\")\n",
    "    for i, (rmse, r2) in enumerate(zip(rmse_list, r2_list)):\n",
    "        print(\"Période {}: RMSE = {:.4f}, R2 score = {:.4f}\".format(i, rmse, r2))\n",
    "    print()\n"
   ]
  },
  {
   "cell_type": "code",
   "execution_count": 19,
   "id": "64350a5e",
   "metadata": {},
   "outputs": [
    {
     "data": {
      "image/png": "[encoded data removed]",
      "text/plain": [
       "<Figure size 720x432 with 1 Axes>"
      ]
     },
     "metadata": {
      "needs_background": "light"
     },
     "output_type": "display_data"
    },
    {
     "data": {
      "image/png": "[encoded data removed]",
      "text/plain": [
       "<Figure size 720x432 with 1 Axes>"
      ]
     },
     "metadata": {
      "needs_background": "light"
     },
     "output_type": "display_data"
    }
   ],
   "source": [
    "#Graphique de performance au fil du temps:\n",
    "\n",
    "import matplotlib.pyplot as plt\n",
    "\n",
    "def plot_performance(rmse_values, r2_values):\n",
    "    periods = list(range(len(rmse_values['Linear Regression'])))\n",
    "    \n",
    "    # Tracer les graphiques RMSE\n",
    "    plt.figure(figsize=(10, 6))\n",
    "    for model, rmse_list in rmse_values.items():\n",
    "        plt.plot(periods, rmse_list, label=model)\n",
    "    plt.xlabel('Périodes')\n",
    "    plt.ylabel('RMSE')\n",
    "    plt.title('Performance des modèles (RMSE) au fil du temps')\n",
    "    plt.legend()\n",
    "    plt.show()\n",
    "\n",
    "    # Tracer les graphiques R2\n",
    "    plt.figure(figsize=(10, 6))\n",
    "    for model, r2_list in r2_values.items():\n",
    "        plt.plot(periods, r2_list, label=model)\n",
    "    plt.xlabel('Périodes')\n",
    "    plt.ylabel('R2 Score')\n",
    "    plt.title('Performance des modèles (R2 Score) au fil du temps')\n",
    "    plt.legend()\n",
    "    plt.show()\n",
    "\n",
    "# Utilisation des dictionnaires rmse_values et r2_values créés précédemment\n",
    "plot_performance(rmse_values, r2_values)\n"
   ]
  },
  {
   "cell_type": "markdown",
   "id": "9facb3b4",
   "metadata": {},
   "source": [
    "### Analyse :\n",
    "\n",
    "En examinant les performances des modèles sur différentes périodes, on observe que :\n",
    "- Pour tous les modèles, les performances diminuent au fur et à mesure que les périodes avancent par rapport à la période 0. Cela se traduit par une augmentation du RMSE et une diminution du R2 score, ainsi que des points aberrrants.\n",
    "\n",
    "- La forêt aléatoire est le modèle qui donne les meilleures performances sur toutes les périodes, bien qu'il montre également une dégradation des performances au fil du temps.\n",
    "\n",
    "### Conclusion :\n",
    "\n",
    "La dégradation des performances au fil du temps indique une dérive du modèle pour les trois modèles. Cela suggère que les modèles ne sont pas suffisamment robustes pour s'adapter aux changements dans les données. Par conséquent, il est nécessaire de mettre à jour les modèles pour s'assurer qu'ils restent performants et précis."
   ]
  },
  {
   "cell_type": "markdown",
   "id": "8d401c16",
   "metadata": {},
   "source": [
    "## 2 - Étude de la dérive des données.\n"
   ]
  },
  {
   "cell_type": "markdown",
   "id": "2ccac2a2",
   "metadata": {},
   "source": [
    "### 2-1 Variable catégorielle: TopCategory\n",
    "TopCategory : Catégorie de produits favorite du client."
   ]
  },
  {
   "cell_type": "code",
   "execution_count": 21,
   "id": "ce6c4eb5",
   "metadata": {},
   "outputs": [
    {
     "data": {
      "image/png": "[encoded data removed]",
      "text/plain": [
       "<Figure size 2160x720 with 3 Axes>"
      ]
     },
     "metadata": {
      "needs_background": "light"
     },
     "output_type": "display_data"
    }
   ],
   "source": [
    "# Afficher les histogrammes avec les noms de catégories\n",
    "fig, ax = plt.subplots(nrows=1, ncols=3, figsize=(30, 10))\n",
    "ax[0].hist(X1[\"TopCategory\"], color=\"y\")\n",
    "ax[0].set_title(\"TopCategory pour la periode 1\")\n",
    "ax[0].set_xticks(range(len(category_names)))\n",
    "ax[0].set_xticklabels(category_names)\n",
    "\n",
    "ax[1].hist(X2[\"TopCategory\"],color=\"pink\")\n",
    "ax[1].set_title(\"TopCategory pour la periode 2\")\n",
    "ax[1].set_xticks(range(len(category_names)))\n",
    "ax[1].set_xticklabels(category_names)\n",
    "\n",
    "ax[2].hist(X3[\"TopCategory\"],color=\"g\")\n",
    "ax[2].set_title(\"TopCategory pour la periode 3\")\n",
    "ax[2].set_xticks(range(len(category_names)))\n",
    "ax[2].set_xticklabels(category_names)\n",
    "\n",
    "for a in ax:\n",
    "    a.tick_params(axis='x', rotation=90)\n",
    "    \n",
    "plt.show()"
   ]
  },
  {
   "cell_type": "code",
   "execution_count": 22,
   "id": "3bf05057",
   "metadata": {},
   "outputs": [],
   "source": [
    "X1_category_dist = np.histogram(X1[\"TopCategory\"], bins = 8)[0]\n",
    "X1_category_dist = X1_category_dist / np.sum(X1_category_dist)\n",
    "\n",
    "X2_category_dist = np.histogram(X2[\"TopCategory\"], bins = 8)[0]\n",
    "X2_category_dist = X2_category_dist / np.sum(X2_category_dist)\n",
    "\n",
    "X3_category_dist = np.histogram(X3[\"TopCategory\"], bins = 8)[0]\n",
    "X3_category_dist = X3_category_dist / np.sum(X3_category_dist)\n"
   ]
  },
  {
   "cell_type": "code",
   "execution_count": 23,
   "id": "fedfd85e",
   "metadata": {},
   "outputs": [
    {
     "name": "stdout",
     "output_type": "stream",
     "text": [
      "Distributions de TopCategory pour les 3 périodes :\n",
      "--------------------------------------------------\n",
      "Periode 1: [0.227 0.257 0.062 0.106 0.125 0.005 0.007 0.211]\n",
      "Periode 2: [0.226 0.237 0.063 0.112 0.118 0.002 0.011 0.231]\n",
      "Periode 3: [0.217 0.248 0.084 0.131 0.1   0.002 0.007 0.211]\n"
     ]
    }
   ],
   "source": [
    "print(\"Distributions de TopCategory pour les 3 périodes :\")\n",
    "print(\"-\"*50)\n",
    "print(\"Periode 1:\",X1_category_dist)\n",
    "print(\"Periode 2:\",X2_category_dist)\n",
    "print(\"Periode 3:\",X3_category_dist)"
   ]
  },
  {
   "cell_type": "code",
   "execution_count": 24,
   "id": "8bf209c4",
   "metadata": {},
   "outputs": [
    {
     "name": "stdout",
     "output_type": "stream",
     "text": [
      "Calcul de la divergence de Kullback–Leibler et la divergence de Jensen-Shannon:\n",
      "--------------------------------------------------\n",
      "Periode 2 par rapport à 1\n",
      "la divergence de Kullback–Leibler est =0.0042,  et la divergence de Jensen-Shannon est =0.0011\n",
      " \n",
      "Periode 3 par rapport à 2\n",
      "la divergence de Kullback–Leibler est =0.0083,  et la divergence de Jensen-Shannon est =0.0021\n",
      " \n",
      "Periode 3 par rapport à 1\n",
      "la divergence de Kullback–Leibler est =0.01,  et la divergence de Jensen-Shannon est =0.0026\n"
     ]
    }
   ],
   "source": [
    "print(\"Calcul de la divergence de Kullback–Leibler et la divergence de Jensen-Shannon:\")\n",
    "print(\"-\"*50)\n",
    "print(\"Periode 2 par rapport à 1\")\n",
    "print(\"la divergence de Kullback–Leibler est ={:.2},  et la divergence de Jensen-Shannon est ={:.2}\".format(KLDivergence(X2_category_dist,X1_category_dist) ,\n",
    "                                                                                                      JSDivergence(X2_category_dist,X1_category_dist)))\n",
    "print(\" \")\n",
    "print(\"Periode 3 par rapport à 2\")\n",
    "print(\"la divergence de Kullback–Leibler est ={:.2},  et la divergence de Jensen-Shannon est ={:.2}\".format(KLDivergence(X3_category_dist,X2_category_dist) ,\n",
    "                                                                                                      JSDivergence(X3_category_dist,X2_category_dist)))\n",
    "\n",
    "print(\" \")\n",
    "print(\"Periode 3 par rapport à 1\")\n",
    "print(\"la divergence de Kullback–Leibler est ={:.2},  et la divergence de Jensen-Shannon est ={:.2}\".format(KLDivergence(X3_category_dist,X1_category_dist) ,\n",
    "                                                                                                      JSDivergence(X3_category_dist,X1_category_dist)))\n",
    "\n"
   ]
  },
  {
   "cell_type": "markdown",
   "id": "423a6a95",
   "metadata": {},
   "source": [
    "### Commentaires : "
   ]
  },
  {
   "cell_type": "markdown",
   "id": "33e1ca3f",
   "metadata": {},
   "source": [
    "L'analyse montre que la variable TopCategory ne présente pas de grandes différences entre les distributions de probabilité des catégories entre les différentes périodes, sauf entre la période 3 et la période 1 où les différences sont plus marquées. Cela indique que la préférence des clients pour les catégories de produits reste relativement stable au fil du temps. Cependant, il est important de noter que l'analyse ne prend pas en compte les changements de comportement des clients individuels, qui peuvent influencer les tendances globales observées dans les distributions de probabilité."
   ]
  },
  {
   "cell_type": "markdown",
   "id": "014bc510",
   "metadata": {},
   "source": [
    "### 2-2 Variables quantitatives: "
   ]
  },
  {
   "cell_type": "code",
   "execution_count": 25,
   "id": "46151423",
   "metadata": {},
   "outputs": [],
   "source": [
    "def analyser(feature, bins=\"auto\"):\n",
    "\n",
    "    mean_period0 = np.mean(X0[feature])\n",
    "    var_period0  = np.var(X0[feature])\n",
    "\n",
    "\n",
    "    X1_=  np.array(X1[feature])\n",
    "    X1_ = (X1_ - mean_period0) / np.sqrt(var_period0)\n",
    "    \n",
    "    X2_=  np.array(X2[feature])\n",
    "    X2_ = (X2_ - mean_period0) / np.sqrt(var_period0)\n",
    "\n",
    "\n",
    "    X3_=  np.array(X3[feature])\n",
    "    X3_ = (X3_ - mean_period0) / np.sqrt(var_period0)\n",
    "\n",
    "\n",
    "        \n",
    "    if bins == \"auto\":\n",
    "        values = pd.concat([X1[feature], X2[feature], X3[feature]]).unique()\n",
    "        values= sorted(np.array(values))\n",
    "    else :\n",
    "        values = bins\n",
    "    \n",
    "    fig, ax = plt.subplots(nrows=1, ncols=3, figsize=(30, 10))\n",
    "\n",
    "    ax[0].hist(X1[feature], bins=values ,color=\"y\")\n",
    "    ax[0].set_title(\"{} pour la periode 1\".format(feature))\n",
    "\n",
    "\n",
    "    ax[1].hist(X2[feature],bins=values ,color=\"pink\")\n",
    "    ax[1].set_title(\"{} pour la periode 2\".format(feature))\n",
    "\n",
    "\n",
    "    ax[2].hist(X3[feature],bins=values ,color=\"g\")\n",
    "    ax[2].set_title(\"{} pour la periode 3\".format(feature))\n",
    "\n",
    "\n",
    "    plt.show()\n",
    "        \n",
    "    print(\"Calcul de la Distance de Wasserstein :\")\n",
    "    print(\"-\"*50)\n",
    "    print(\"Periode 2 par rapport à 1\")\n",
    "    print(\"la Distance de Wasserstein est {:.3} pour l'ordre {}\".format(WassersteinDistance(X2_,X1_,1),1))\n",
    "    print(\"la Distance de Wasserstein est {:.3} pour l'ordre {}\".format(WassersteinDistance(X2_,X1_,2),2))\n",
    "\n",
    "    print(\" \")\n",
    "\n",
    "    print(\"Periode 3 par rapport à 2\")\n",
    "    print(\"la Distance de Wasserstein est {:.3} pour l'ordre {} \".format(WassersteinDistance(X3_,X2_,1),1))\n",
    "    print(\"la Distance de Wasserstein est {:.3} pour l'ordre {} \".format(WassersteinDistance(X3_,X2_,2),2))\n",
    "\n",
    "\n",
    "    print(\" \")\n",
    "    print(\"Periode 3 par rapport à 1\")\n",
    "    print(\"la Distance de Wasserstein est {:.3} pour l'ordre {}\".format(WassersteinDistance(X3_,X1_,1),1))\n",
    "    print(\"la Distance de Wasserstein est {:.3} pour l'ordre {}\".format(WassersteinDistance(X3_,X1_,2),2))"
   ]
  },
  {
   "cell_type": "markdown",
   "id": "1f1ff909",
   "metadata": {},
   "source": [
    "### 1-2 Age\n",
    "Age : âge du client en années."
   ]
  },
  {
   "cell_type": "code",
   "execution_count": 26,
   "id": "e873dcfc",
   "metadata": {},
   "outputs": [
    {
     "data": {
      "image/png": "[encoded data removed]",
      "text/plain": [
       "<Figure size 2160x720 with 3 Axes>"
      ]
     },
     "metadata": {
      "needs_background": "light"
     },
     "output_type": "display_data"
    },
    {
     "name": "stdout",
     "output_type": "stream",
     "text": [
      "Calcul de la Distance de Wasserstein :\n",
      "--------------------------------------------------\n",
      "Periode 2 par rapport à 1\n",
      "la Distance de Wasserstein est 0.0552 pour l'ordre 1\n",
      "la Distance de Wasserstein est 0.107 pour l'ordre 2\n",
      " \n",
      "Periode 3 par rapport à 2\n",
      "la Distance de Wasserstein est 0.0888 pour l'ordre 1 \n",
      "la Distance de Wasserstein est 0.136 pour l'ordre 2 \n",
      " \n",
      "Periode 3 par rapport à 1\n",
      "la Distance de Wasserstein est 0.125 pour l'ordre 1\n",
      "la Distance de Wasserstein est 0.159 pour l'ordre 2\n"
     ]
    }
   ],
   "source": [
    "analyser(\"Age\")"
   ]
  },
  {
   "cell_type": "markdown",
   "id": "28c8d519",
   "metadata": {},
   "source": [
    "#### Commentaires :\n",
    "Les résultats obtenus montrent que la distance de Wasserstein entre les périodes est relativement faible pour la variable \"Age\", ce qui indique que cette variable ne semble pas être très significative pour différencier les clients entre les périodes. En effet, la distance de Wasserstein entre les périodes 2 et 1 est de 0.0552 pour l'ordre 1, ce qui est faible et signifie qu'il y a peu de différence entre les âges des clients dans ces deux périodes. De même, la distance de Wasserstein entre les périodes 3 et 2 est de 0.0888 pour l'ordre 1, ce qui est également faible. La distance de Wasserstein entre les périodes 3 et 1 est légèrement plus élevée, mais reste relativement faible (0,125 pour l'ordre 1). Cela indique que l'âge n'est probablement pas un facteur déterminant pour prédire le comportement des clients dans cette entreprise."
   ]
  },
  {
   "cell_type": "markdown",
   "id": "6c97dc92",
   "metadata": {},
   "source": [
    "### 1-3 Seniority\n",
    "Seniority : ancienneté du client en années."
   ]
  },
  {
   "cell_type": "code",
   "execution_count": 27,
   "id": "6f766fec",
   "metadata": {},
   "outputs": [
    {
     "data": {
      "image/png": "[encoded data removed]",
      "text/plain": [
       "<Figure size 2160x720 with 3 Axes>"
      ]
     },
     "metadata": {
      "needs_background": "light"
     },
     "output_type": "display_data"
    },
    {
     "name": "stdout",
     "output_type": "stream",
     "text": [
      "Calcul de la Distance de Wasserstein :\n",
      "--------------------------------------------------\n",
      "Periode 2 par rapport à 1\n",
      "la Distance de Wasserstein est 0.307 pour l'ordre 1\n",
      "la Distance de Wasserstein est 0.653 pour l'ordre 2\n",
      " \n",
      "Periode 3 par rapport à 2\n",
      "la Distance de Wasserstein est 0.268 pour l'ordre 1 \n",
      "la Distance de Wasserstein est 0.61 pour l'ordre 2 \n",
      " \n",
      "Periode 3 par rapport à 1\n",
      "la Distance de Wasserstein est 0.575 pour l'ordre 1\n",
      "la Distance de Wasserstein est 0.905 pour l'ordre 2\n"
     ]
    }
   ],
   "source": [
    "analyser(\"Seniority\")"
   ]
  },
  {
   "cell_type": "markdown",
   "id": "02f78a9e",
   "metadata": {},
   "source": [
    "#### Commentaires :\n",
    "Les distances de Wasserstein obtenues pour l'analyse de la variable Seniority sont relativement élevées, surtout pour les ordres supérieurs. Cela indique qu'il y a une différence significative dans la distribution de l'ancienneté du client entre les différentes périodes, ce qui est un indicateur de la fidélité du client à long terme. Nous pouvons utiliser cette information pour évaluer l'efficacité des programmes de fidélisation de la clientèle et pour déterminer si des changements sont nécessaires pour maintenir la satisfaction de la clientèle à long terme."
   ]
  },
  {
   "cell_type": "markdown",
   "id": "afa12f18",
   "metadata": {},
   "source": [
    "### 1-3 Orders\n",
    "Orders : Nombre de commandes effectuées sur la période précédente."
   ]
  },
  {
   "cell_type": "code",
   "execution_count": 28,
   "id": "fc34d99b",
   "metadata": {},
   "outputs": [
    {
     "data": {
      "image/png": "[encoded data removed]",
      "text/plain": [
       "<Figure size 2160x720 with 3 Axes>"
      ]
     },
     "metadata": {
      "needs_background": "light"
     },
     "output_type": "display_data"
    },
    {
     "name": "stdout",
     "output_type": "stream",
     "text": [
      "Calcul de la Distance de Wasserstein :\n",
      "--------------------------------------------------\n",
      "Periode 2 par rapport à 1\n",
      "la Distance de Wasserstein est 0.18 pour l'ordre 1\n",
      "la Distance de Wasserstein est 0.329 pour l'ordre 2\n",
      " \n",
      "Periode 3 par rapport à 2\n",
      "la Distance de Wasserstein est 0.235 pour l'ordre 1 \n",
      "la Distance de Wasserstein est 0.369 pour l'ordre 2 \n",
      " \n",
      "Periode 3 par rapport à 1\n",
      "la Distance de Wasserstein est 0.411 pour l'ordre 1\n",
      "la Distance de Wasserstein est 0.492 pour l'ordre 2\n"
     ]
    }
   ],
   "source": [
    "analyser(\"Orders\")"
   ]
  },
  {
   "cell_type": "markdown",
   "id": "144b3b8c",
   "metadata": {},
   "source": [
    "#### Commentaires :\n",
    "La distance de Wasserstein mesure la différence entre les distributions de probabilité de deux échantillons. Ici, on l'utilise pour mesurer la différence entre les distributions des nombres de commandes effectuées par les clients sur différentes périodes.\n",
    "\n",
    "Les résultats montrent que les distances de Wasserstein entre les périodes 2 et 1, et entre les périodes 3 et 2, sont relativement faibles pour l'ordre 1 et l'ordre 2. Cela signifie que la distribution des nombres de commandes est relativement stable entre ces périodes.\n",
    "\n",
    "Cependant, la distance de Wasserstein entre les périodes 3 et 1 est plus importante, notamment pour l'ordre 2. Cela indique qu'il y a une différence plus importante dans la distribution des nombres de commandes entre ces deux périodes, et qu'il y a des changements significatifs dans le comportement des clients."
   ]
  },
  {
   "cell_type": "markdown",
   "id": "2b6ad42b",
   "metadata": {},
   "source": [
    "### 1-4 Items\n",
    "Items : Nombre d'items commandés sur la période précédente."
   ]
  },
  {
   "cell_type": "code",
   "execution_count": 29,
   "id": "b6552852",
   "metadata": {},
   "outputs": [
    {
     "data": {
      "image/png": "[encoded data removed]",
      "text/plain": [
       "<Figure size 2160x720 with 3 Axes>"
      ]
     },
     "metadata": {
      "needs_background": "light"
     },
     "output_type": "display_data"
    },
    {
     "name": "stdout",
     "output_type": "stream",
     "text": [
      "Calcul de la Distance de Wasserstein :\n",
      "--------------------------------------------------\n",
      "Periode 2 par rapport à 1\n",
      "la Distance de Wasserstein est 0.164 pour l'ordre 1\n",
      "la Distance de Wasserstein est 0.264 pour l'ordre 2\n",
      " \n",
      "Periode 3 par rapport à 2\n",
      "la Distance de Wasserstein est 0.219 pour l'ordre 1 \n",
      "la Distance de Wasserstein est 0.302 pour l'ordre 2 \n",
      " \n",
      "Periode 3 par rapport à 1\n",
      "la Distance de Wasserstein est 0.383 pour l'ordre 1\n",
      "la Distance de Wasserstein est 0.444 pour l'ordre 2\n"
     ]
    }
   ],
   "source": [
    "analyser(\"Items\")"
   ]
  },
  {
   "cell_type": "markdown",
   "id": "70955766",
   "metadata": {},
   "source": [
    "#### Commentaires :\n",
    "Les résultats obtenus pour la distance de Wasserstein entre les périodes montrent une dérive des données au fil du temps pour la variable \"Items\", ce qui suggére une évolution des comportements d'achat des clients ou un changement dans l'offre proposée par l'entreprise. Les valeurs de distance de Wasserstein augmentent au fil des périodes, ce qui indique que la différence entre les distributions des périodes est plus importante. Il est intéressant de prendre en compte cette évolution dans la construction des modèles pour maintenir leur performance et leur précision."
   ]
  },
  {
   "cell_type": "markdown",
   "id": "c8bc8870",
   "metadata": {},
   "source": [
    "### 1-5 AverageDiscount\n",
    "AverageDiscount : Réduction moyenne accordée au client sur la période précédente en pourcentage.\n"
   ]
  },
  {
   "cell_type": "code",
   "execution_count": 30,
   "id": "a93b6e82",
   "metadata": {},
   "outputs": [
    {
     "name": "stderr",
     "output_type": "stream",
     "text": [
      "C:\\Users\\dell\\AppData\\Local\\Temp\\ipykernel_1836\\302653424.py:19: FutureWarning: elementwise comparison failed; returning scalar instead, but in the future will perform elementwise comparison\n",
      "  if bins == \"auto\":\n"
     ]
    },
    {
     "data": {
      "image/png": "[encoded data removed]",
      "text/plain": [
       "<Figure size 2160x720 with 3 Axes>"
      ]
     },
     "metadata": {
      "needs_background": "light"
     },
     "output_type": "display_data"
    },
    {
     "name": "stdout",
     "output_type": "stream",
     "text": [
      "Calcul de la Distance de Wasserstein :\n",
      "--------------------------------------------------\n",
      "Periode 2 par rapport à 1\n",
      "la Distance de Wasserstein est 0.131 pour l'ordre 1\n",
      "la Distance de Wasserstein est 0.17 pour l'ordre 2\n",
      " \n",
      "Periode 3 par rapport à 2\n",
      "la Distance de Wasserstein est 0.0588 pour l'ordre 1 \n",
      "la Distance de Wasserstein est 0.0748 pour l'ordre 2 \n",
      " \n",
      "Periode 3 par rapport à 1\n",
      "la Distance de Wasserstein est 0.165 pour l'ordre 1\n",
      "la Distance de Wasserstein est 0.222 pour l'ordre 2\n"
     ]
    }
   ],
   "source": [
    "bins = np.arange(0,1,0.05)\n",
    "analyser(\"AverageDiscount\", bins = bins)"
   ]
  },
  {
   "cell_type": "markdown",
   "id": "38dccbc0",
   "metadata": {},
   "source": [
    "#### Commentaires :\n",
    "On remarque que la distance de Wasserstein pour la variable \"AverageDiscount\" diminue entre la période 2 et la période 3. Cela suggére que la réduction moyenne accordée au client a été plus stable dans la période 3 par rapport à la période 2.\n",
    "\n",
    "Cependant, la distance de Wasserstein pour la période 3 par rapport à la période 1 a augmenté, ce qui  indique un changement plus important dans les réductions moyennes accordées au client entre ces deux périodes.\n",
    "\n",
    "En examinant les histogrammes, on voie que la distribution des réductions moyennes accordées au client a tendance à se resserrer autour d'une valeur plus élevée au fil du temps. Cela indique que l'entreprise accorde des réductions moins importantes mais plus régulières aux clients au fil du temps.\n",
    "\n",
    "Il est important de continuer à surveiller cette variable pour voir si cette tendance se poursuit et si cela a un impact sur les ventes et la fidélité des clients."
   ]
  },
  {
   "cell_type": "markdown",
   "id": "8b6684d4",
   "metadata": {},
   "source": [
    "### 1-6 BrowsingTime\n",
    "BrowsingTime : Temps total passé sur le site web sur la période précédente en secondes.\n"
   ]
  },
  {
   "cell_type": "code",
   "execution_count": 31,
   "id": "6ff0bea1",
   "metadata": {},
   "outputs": [
    {
     "name": "stderr",
     "output_type": "stream",
     "text": [
      "C:\\Users\\dell\\AppData\\Local\\Temp\\ipykernel_1836\\302653424.py:19: FutureWarning: elementwise comparison failed; returning scalar instead, but in the future will perform elementwise comparison\n",
      "  if bins == \"auto\":\n"
     ]
    },
    {
     "data": {
      "image/png": "[encoded data removed]",
      "text/plain": [
       "<Figure size 2160x720 with 3 Axes>"
      ]
     },
     "metadata": {
      "needs_background": "light"
     },
     "output_type": "display_data"
    },
    {
     "name": "stdout",
     "output_type": "stream",
     "text": [
      "Calcul de la Distance de Wasserstein :\n",
      "--------------------------------------------------\n",
      "Periode 2 par rapport à 1\n",
      "la Distance de Wasserstein est 0.0962 pour l'ordre 1\n",
      "la Distance de Wasserstein est 0.132 pour l'ordre 2\n",
      " \n",
      "Periode 3 par rapport à 2\n",
      "la Distance de Wasserstein est 0.208 pour l'ordre 1 \n",
      "la Distance de Wasserstein est 0.441 pour l'ordre 2 \n",
      " \n",
      "Periode 3 par rapport à 1\n",
      "la Distance de Wasserstein est 0.299 pour l'ordre 1\n",
      "la Distance de Wasserstein est 0.519 pour l'ordre 2\n"
     ]
    }
   ],
   "source": [
    "bins = np.arange(0,900,50)\n",
    "\n",
    "analyser(\"BrowsingTime\",bins=bins)"
   ]
  },
  {
   "cell_type": "markdown",
   "id": "e69dc0dc",
   "metadata": {},
   "source": [
    "#### Commentaires :\n",
    "Dans la première période, la majorité des clients ont passé entre 0 et 300 secondes sur le site web, avec une moyenne autour de 100 secondes. Dans la deuxième période, il y a une légère augmentation de la durée moyenne de navigation, avec une majorité de clients passant entre 0 et 400 secondes sur le site web, avec une moyenne autour de 150 secondes. Dans la troisième période, on observe une augmentation significative de la durée moyenne de navigation, avec une majorité de clients passant entre 0 et 800 secondes sur le site web, avec une moyenne autour de 400 secondes. Les distances de Wasserstein entre les périodes indiquent que la distribution des temps de navigation a évolué significativement, en particulier entre la période 2 et 3. Cela suggére que les clients passent plus de temps sur le site web pour trouver ce qu'ils cherchent, ce qui pourrait être dû à une amélioration de l'interface utilisateur ou de la qualité des recommandations proposées."
   ]
  },
  {
   "cell_type": "markdown",
   "id": "3714805c",
   "metadata": {},
   "source": [
    "### 1-7 EmailsOpened\n",
    "EmailsOpened : Nombre de mails marketing ouverts par le client sur la période précédente.\n"
   ]
  },
  {
   "cell_type": "code",
   "execution_count": 32,
   "id": "d466c1d9",
   "metadata": {},
   "outputs": [
    {
     "data": {
      "image/png": "[encoded data removed]",
      "text/plain": [
       "<Figure size 2160x720 with 3 Axes>"
      ]
     },
     "metadata": {
      "needs_background": "light"
     },
     "output_type": "display_data"
    },
    {
     "name": "stdout",
     "output_type": "stream",
     "text": [
      "Calcul de la Distance de Wasserstein :\n",
      "--------------------------------------------------\n",
      "Periode 2 par rapport à 1\n",
      "la Distance de Wasserstein est 0.0918 pour l'ordre 1\n",
      "la Distance de Wasserstein est 0.303 pour l'ordre 2\n",
      " \n",
      "Periode 3 par rapport à 2\n",
      "la Distance de Wasserstein est 0.121 pour l'ordre 1 \n",
      "la Distance de Wasserstein est 0.347 pour l'ordre 2 \n",
      " \n",
      "Periode 3 par rapport à 1\n",
      "la Distance de Wasserstein est 0.0529 pour l'ordre 1\n",
      "la Distance de Wasserstein est 0.23 pour l'ordre 2\n"
     ]
    }
   ],
   "source": [
    "analyser(\"EmailsOpened\")"
   ]
  },
  {
   "cell_type": "markdown",
   "id": "d417dbda",
   "metadata": {},
   "source": [
    "#### Commentaires :\n",
    "Les résultats montrent des distances de Wasserstein relativement faibles pour la plupart des comparaisons de périodes, ce qui suggère une certaine stabilité dans la variable \"EmailsOpened\". Cependant, la distance de Wasserstein entre la période 2 et la période 3 pour l'ordre 2 est assez élevée, ce qui indique une possible rupture ou un changement significatif dans le comportement du client en matière d'ouverture d'e-mails marketing. Il est utile d'examiner cette période plus en détail pour identifier les raisons de ce changement.\n"
   ]
  },
  {
   "cell_type": "markdown",
   "id": "de673bfd",
   "metadata": {},
   "source": [
    "### 1- 8 SupportInteractions \n",
    "SupportInteractions : Nombre d'interactions que le client a eu avec le service client sur la période précédente."
   ]
  },
  {
   "cell_type": "code",
   "execution_count": 33,
   "id": "0261c470",
   "metadata": {},
   "outputs": [
    {
     "data": {
      "image/png": "[encoded data removed]",
      "text/plain": [
       "<Figure size 2160x720 with 3 Axes>"
      ]
     },
     "metadata": {
      "needs_background": "light"
     },
     "output_type": "display_data"
    },
    {
     "name": "stdout",
     "output_type": "stream",
     "text": [
      "Calcul de la Distance de Wasserstein :\n",
      "--------------------------------------------------\n",
      "Periode 2 par rapport à 1\n",
      "la Distance de Wasserstein est 0.0744 pour l'ordre 1\n",
      "la Distance de Wasserstein est 0.27 pour l'ordre 2\n",
      " \n",
      "Periode 3 par rapport à 2\n",
      "la Distance de Wasserstein est 0.0431 pour l'ordre 1 \n",
      "la Distance de Wasserstein est 0.205 pour l'ordre 2 \n",
      " \n",
      "Periode 3 par rapport à 1\n",
      "la Distance de Wasserstein est 0.0333 pour l'ordre 1\n",
      "la Distance de Wasserstein est 0.18 pour l'ordre 2\n"
     ]
    }
   ],
   "source": [
    "analyser(\"SupportInteractions\")"
   ]
  },
  {
   "cell_type": "markdown",
   "id": "cd2dd3fd",
   "metadata": {},
   "source": [
    "#### Commentaires :\n",
    "Les résultats montrent une distance de Wasserstein relativement faible entre les périodes pour cette variable, ce qui indique une certaine stabilité dans le comportement des clients. Cependant, la distance de Wasserstein entre la période 2 et la période 1 est plus élevée que celle entre la période 3 et la période 2, ce qui indique une tendance à réduire les interactions avec le service client au fil du temps."
   ]
  },
  {
   "cell_type": "markdown",
   "id": "1461c686",
   "metadata": {},
   "source": [
    "## Conclusion"
   ]
  },
  {
   "cell_type": "markdown",
   "id": "33ff68db",
   "metadata": {},
   "source": [
    "En conclusion, l'analyse des variables: Age, Seniority, Orders, Items, AverageDiscount, TopCategory, BrowsingTime, EmailsOpened et SupportInteractions a révélé des différences significatives entre les distributions de probabilité de ces variables d'une période à l'autre.\n",
    "\n",
    "Cela suggère que les comportements et les préférences des clients ont évolué au fil du temps, ce qui peut être dû à des changements dans l'environnement commercial ou dans les stratégies de l'entreprise. Par conséquent, nous devons être attentifs à ces changements afin de pouvoir adapter leur stratégie de marketing et de vente en conséquence.\n",
    "\n",
    "En ce qui concerne la dérive des modèles, les résultats montrent que les modèles prédictifs basés sur les données de la période précédente ne sont pas toujours capables de prédire avec précision les comportements des clients à l'avenir. Cela est dû à la dérive des données, c'est-à-dire aux changements dans les comportements des clients au fil du temps, ou à d'autres facteurs tels que des erreurs de modélisation.\n",
    "\n",
    "Il est donc important de surveiller régulièrement les performances de leurs modèles prédictifs et de les ajuster en fonction des changements dans les comportements des clients et dans l'environnement commercial. L'utilisation de techniques de réapprentissage régulier ou de modèles plus flexibles aide à réduire l'impact de la dérive des données et à améliorer la précision des prévisions."
   ]
  },
  {
   "cell_type": "code",
   "execution_count": null,
   "id": "9481c49f",
   "metadata": {},
   "outputs": [],
   "source": []
  }
 ],
 "metadata": {
  "kernelspec": {
   "display_name": "Python 3 (ipykernel)",
   "language": "python",
   "name": "python3"
  },
  "language_info": {
   "codemirror_mode": {
    "name": "ipython",
    "version": 3
   },
   "file_extension": ".py",
   "mimetype": "text/x-python",
   "name": "python",
   "nbconvert_exporter": "python",
   "pygments_lexer": "ipython3",
   "version": "3.9.12"
  }
 },
 "nbformat": 4,
 "nbformat_minor": 5
}
